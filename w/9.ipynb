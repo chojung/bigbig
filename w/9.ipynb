{
 "cells": [
  {
   "cell_type": "code",
   "execution_count": 70,
   "metadata": {
    "collapsed": false
   },
   "outputs": [
    {
     "name": "stdout",
     "output_type": "stream",
     "text": [
      "Overwriting src/key.properties\n"
     ]
    }
   ],
   "source": [
    "%%writefile src/key.properties\n",
    "dataseoul=5a4a64554f776f6f35336c6f456963\n",
    "gokr=op3OysxIWnvC%2FmbgoDMz185RU0y5REa34Aloc%2BjDoh3zvP1JvT5HfhGRA1EoZAMDS5XuYxprRh8o9extN2dxyg%3D%3D"
   ]
  },
  {
   "cell_type": "code",
   "execution_count": 71,
   "metadata": {
    "collapsed": false
   },
   "outputs": [
    {
     "name": "stdout",
     "output_type": "stream",
     "text": [
      "Overwriting src/mylib.py\n"
     ]
    }
   ],
   "source": [
    "%%writefile src/mylib.py\n",
    "\n",
    "def sayHello():\n",
    "    print \"hello\"\n",
    "\n",
    "def sayHello2():\n",
    "    print \"hello2\"\n",
    "    \n",
    "def getKey(keyPath):\n",
    "    d=dict()\n",
    "    f=open(keyPath,'r')\n",
    "    for line in f.readlines():\n",
    "        row=line.split('=')\n",
    "        row0=row[0]\n",
    "        d[row0]=row[1].strip()\n",
    "    return d"
   ]
  },
  {
   "cell_type": "code",
   "execution_count": 4,
   "metadata": {
    "collapsed": false
   },
   "outputs": [
    {
     "data": {
      "text/plain": [
       "u'F:\\\\15 Mediasoftware\\\\3-1\\\\Big Data Programming\\\\code\\\\s-201511134'"
      ]
     },
     "execution_count": 4,
     "metadata": {},
     "output_type": "execute_result"
    }
   ],
   "source": [
    "pwd"
   ]
  },
  {
   "cell_type": "code",
   "execution_count": 17,
   "metadata": {
    "collapsed": false
   },
   "outputs": [
    {
     "name": "stdout",
     "output_type": "stream",
     "text": [
      " F 드라이브의 볼륨에는 이름이 없습니다.\n",
      " 볼륨 일련 번호: 6A68-38D9\n",
      "\n",
      " F:\\15 Mediasoftware\\3-1\\Big Data Programming\\code\\s-201511134\\src 디렉터리\n",
      "\n",
      "2017-03-07  오후 05:12    <DIR>          .\n",
      "2017-03-07  오후 05:12    <DIR>          ..\n",
      "2017-03-14  오후 04:28               289 test.py\n",
      "2017-03-27  오후 12:44               231 mypage1.html\n",
      "2017-03-28  오후 04:31               949 my.xml\n",
      "2017-03-28  오후 04:44             1,108 mypage3.html\n",
      "2017-03-28  오후 05:34               374 ds_2_web_crawl_ieee.py\n",
      "2017-03-30  오후 02:43               262 ds_2_web_crawl_python.py\n",
      "2017-03-30  오후 02:52               326 ds_2_web_crawl_ieee2.py\n",
      "2017-04-03  오후 11:02               597 ds_web_crawl_kbaseball.py\n",
      "2017-04-04  오후 04:58             6,025 mygoogle1.html\n",
      "2017-04-06  오전 12:14               429 ds_web_crawl_http.py\n",
      "2017-04-06  오전 12:17               565 ds_web_crawl_rain.py\n",
      "2017-04-17  오후 12:55               180 ds_save_mongo_6.js\n",
      "2017-04-18  오후 04:30               149 key.properties\n",
      "2017-04-18  오후 04:32                36 mylib.py\n",
      "2017-04-18  오후 04:36                 1 __init__.py\n",
      "2017-04-18  오후 04:36               102 __init__.pyc\n",
      "2017-04-18  오후 04:36               221 mylib.pyc\n",
      "              17개 파일              11,844 바이트\n",
      "               2개 디렉터리  13,028,319,232 바이트 남음\n"
     ]
    }
   ],
   "source": [
    "!dir src\\"
   ]
  },
  {
   "cell_type": "code",
   "execution_count": 69,
   "metadata": {
    "collapsed": false
   },
   "outputs": [
    {
     "name": "stdout",
     "output_type": "stream",
     "text": [
      "Overwriting src/__init__.py\n"
     ]
    }
   ],
   "source": [
    "%%writefile src/__init__.py\n",
    "import os"
   ]
  },
  {
   "cell_type": "code",
   "execution_count": 68,
   "metadata": {
    "collapsed": true
   },
   "outputs": [],
   "source": [
    "import sys\n",
    "del sys.modules['src.mylib']"
   ]
  },
  {
   "cell_type": "code",
   "execution_count": 57,
   "metadata": {
    "collapsed": false
   },
   "outputs": [
    {
     "name": "stdout",
     "output_type": "stream",
     "text": [
      "hello\n",
      "hello2\n"
     ]
    }
   ],
   "source": [
    "import src.mylib\n",
    "\n",
    "src.mylib.sayHello()\n",
    "src.mylib.sayHello2()"
   ]
  },
  {
   "cell_type": "code",
   "execution_count": 38,
   "metadata": {
    "collapsed": false
   },
   "outputs": [
    {
     "name": "stdout",
     "output_type": "stream",
     "text": [
      "\n"
     ]
    }
   ],
   "source": [
    "import os\n",
    "\n",
    "d=dict()\n",
    "keyPath = os.path.join('src','key.properties')\n",
    "f=open(keyPath,'r')\n",
    "#print f.readlines()\n",
    "\n",
    "for line in f.readlines():\n",
    "    row = line.split('=')\n",
    "    d[row[0]] = row[1].strip()\n",
    "    \n",
    "    "
   ]
  },
  {
   "cell_type": "code",
   "execution_count": 66,
   "metadata": {
    "collapsed": false
   },
   "outputs": [
    {
     "name": "stdout",
     "output_type": "stream",
     "text": [
      "5a4a64554f776f6f35336c6f456963 op3OysxIWnvC%2FmbgoDMz185RU0y5REa34Aloc%2BjDoh3zvP1JvT5HfhGRA1EoZAMDS5XuYxprRh8o9extN2dxyg%3D%3D\n"
     ]
    }
   ],
   "source": [
    "print d['gokr'],d['dataseoul ']"
   ]
  },
  {
   "cell_type": "code",
   "execution_count": 58,
   "metadata": {
    "collapsed": false
   },
   "outputs": [
    {
     "name": "stdout",
     "output_type": "stream",
     "text": [
      "5a4a64554f776f6f35336c6f456963\n"
     ]
    }
   ],
   "source": [
    "import os\n",
    "def getKey(keyPath):\n",
    "    d=dict()\n",
    "    f=open(keyPath,'r')\n",
    "    for line in f.readlines():\n",
    "        row=line.split('=')\n",
    "        row0=row[0]\n",
    "        d[row0]=row[1].strip()\n",
    "    return d\n",
    "\n",
    "KEY = getKey(os.path.join('src','key.properties'))\n",
    "print KEY['gokr']"
   ]
  },
  {
   "cell_type": "code",
   "execution_count": null,
   "metadata": {
    "collapsed": true
   },
   "outputs": [],
   "source": []
  }
 ],
 "metadata": {
  "kernelspec": {
   "display_name": "Python 2",
   "language": "python",
   "name": "python2"
  },
  "language_info": {
   "codemirror_mode": {
    "name": "ipython",
    "version": 2
   },
   "file_extension": ".py",
   "mimetype": "text/x-python",
   "name": "python",
   "nbconvert_exporter": "python",
   "pygments_lexer": "ipython2",
   "version": "2.7.10"
  }
 },
 "nbformat": 4,
 "nbformat_minor": 0
}
