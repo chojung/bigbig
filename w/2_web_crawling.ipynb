{
 "cells": [
  {
   "cell_type": "markdown",
   "metadata": {},
   "source": [
    "# 웹데이터\n",
    "\n",
    "* url 을 정한다\n",
    "* request -> url 의 요청방식 get, header정의\n",
    "* response -> 결과 가져오기\n",
    "* 결고를 tree로 만들어 추출 -> html, xml, jason 형식\n",
    "* 저장"
   ]
  },
  {
   "cell_type": "code",
   "execution_count": 39,
   "metadata": {
    "collapsed": false
   },
   "outputs": [
    {
     "name": "stdout",
     "output_type": "stream",
     "text": [
      "Overwriting src/mypage1.html\n"
     ]
    }
   ],
   "source": [
    "%%writefile src/mypage1.html\n",
    "<!DOCTYPE html>\n",
    "<html>\n",
    "<head>\n",
    "<meta charset=\"UTF-8\">\n",
    "<title>My Home Page</title>\n",
    "</head>\n",
    "<body>\n",
    "<h1>안녕하십니까</h1>\n",
    "<p>오늘은 프로그래밍 하는 날...</p>\n",
    "<p>Today we do programming...</p>\n",
    "</body>\n",
    "</html>"
   ]
  },
  {
   "cell_type": "code",
   "execution_count": 4,
   "metadata": {
    "collapsed": false
   },
   "outputs": [
    {
     "name": "stdout",
     "output_type": "stream",
     "text": [
      "file://D:\\15 Mediasoftware\\3-1\\Big Data Programming\\code\\s-201511134\\src/mypage1.html\n"
     ]
    },
    {
     "data": {
      "text/plain": [
       "True"
      ]
     },
     "execution_count": 4,
     "metadata": {},
     "output_type": "execute_result"
    }
   ],
   "source": [
    "import webbrowser\n",
    "import os\n",
    "\n",
    "myuri0='file://'+'localhost'+os.path.join(os.getcwd(), 'src/mypage1.html')\n",
    "myuri='file://'+os.path.join(os.getcwd(), 'src/mypage1.html')\n",
    "print myuri\n",
    "webbrowser.open(myuri)\n",
    "# uri형식을 지키지 않으면 안된다.\n",
    "# webbrowser.open('mypage.html')"
   ]
  },
  {
   "cell_type": "code",
   "execution_count": 15,
   "metadata": {
    "collapsed": false
   },
   "outputs": [
    {
     "data": {
      "text/html": [
       "<!DOCTYPE html>\n",
       "<html>\n",
       "<head>\n",
       "<meta charset=\"UTF-8\">\n",
       "<title>My Home Page</title>\n",
       "</head>\n",
       "<body>\n",
       "<h1>안녕하십니까</h1>\n",
       "<p>오늘은 프로그래밍 하는 날...</p>\n",
       "<p>Today we do programming...</p>\n",
       "</body>\n",
       "</html>"
      ],
      "text/plain": [
       "<IPython.core.display.HTML object>"
      ]
     },
     "metadata": {},
     "output_type": "display_data"
    }
   ],
   "source": [
    "%%html\n",
    "<!DOCTYPE html>\n",
    "<html>\n",
    "<head>\n",
    "<meta charset=\"UTF-8\">\n",
    "<title>My Home Page</title>\n",
    "</head>\n",
    "<body>\n",
    "<h1>안녕하십니까</h1>\n",
    "<p>오늘은 프로그래밍 하는 날...</p>\n",
    "<p>Today we do programming...</p>\n",
    "</body>\n",
    "</html>"
   ]
  },
  {
   "cell_type": "markdown",
   "metadata": {},
   "source": [
    "## 웹에 대한 데이터를 : 입력 수정 삭제 조회 c,r,u,d\n",
    "## 도메인과 파라미터를 이용해서 웹서버의 데이터를 요청한다.\n",
    "* https://www.google.co.kr/webhp?sourceid=chrome-instant&rlz=1C1NHXL_koKR708KR735&ion=1&espv=2&ie=UTF-8#q=python&*\n",
    "* https://www.google.co.kr/#q=python&*\n",
    "\n",
    "* https://www.google.co.kr/maps/place/서울특별시+종로구+홍지동/@37.4693418,127.0395119,14.25z/data=!4m5!3m4!1s0x357ca2ab211aeb17:0x864f6e503290da98!8m2!3d37.601247!4d126.9562041\n",
    "* https://www.google.co.kr/maps/place/서울특별시+종로구+홍지동"
   ]
  },
  {
   "cell_type": "code",
   "execution_count": 17,
   "metadata": {
    "collapsed": false
   },
   "outputs": [
    {
     "name": "stdout",
     "output_type": "stream",
     "text": [
      "a=4&c=2016&b=20&e=30&d=6&f=2016&s=%5EKS11\n"
     ]
    }
   ],
   "source": [
    "import urllib\n",
    "params = urllib.urlencode({\"a\":4,\"b\":20,\"c\":2016,\"d\":6,\"e\":30,\"f\":2016,\"s\":\"^KS11\"})\n",
    "print params"
   ]
  },
  {
   "cell_type": "code",
   "execution_count": 3,
   "metadata": {
    "collapsed": false
   },
   "outputs": [
    {
     "name": "stdout",
     "output_type": "stream",
     "text": [
      "%23q=python+tutorial\n",
      "%7E\n",
      "~\n",
      "%20\n",
      "+\n",
      "http://www.google.com/#q=python+tutorial\n"
     ]
    }
   ],
   "source": [
    "import urllib\n",
    "params = urllib.urlencode({\"#q\": \"python tutorial\"})\n",
    "print params\n",
    "\n",
    "print urllib.quote('~');\n",
    "print urllib.quote('~', safe='~');\n",
    "\n",
    "print urllib.quote(' ')\n",
    "print urllib.quote_plus(' ')\n",
    "\n",
    "url = 'http://www.google.com/#q='\n",
    "print url + urllib.quote_plus('python tutorial')"
   ]
  },
  {
   "cell_type": "code",
   "execution_count": 1,
   "metadata": {
    "collapsed": false
   },
   "outputs": [
    {
     "name": "stdout",
     "output_type": "stream",
     "text": [
      "<!doctype html>\n",
      "<!--[if lt IE 7]>   <html class=\"no-js ie6 lt-ie7 lt-ie8 lt-ie9\">   <![endif]-->\n",
      "<!--[if IE 7]>      <html class=\"no-js ie7 lt-ie8 lt-ie9\">          <![endif]-->\n",
      "<!--[if IE 8]>      <html class=\"no-js ie8 lt-ie9\">                 <![endif]-->\n",
      "<!--[if gt IE 8]><!--><html class=\"no-js\" lang=\"en\" dir=\"ltr\">  <!--<![endif]-->\n",
      "\n",
      "<head>\n",
      "    <meta charset=\"utf-8\">\n",
      "    <meta http-equiv=\"X-UA-Compatible\" content=\"IE=edge\">\n",
      "\n",
      "    <link rel=\"prefetch\" href=\"//ajax.googleapis.com/ajax/libs/jqu\n"
     ]
    }
   ],
   "source": [
    "import urllib2\n",
    "url = 'http://www.python.org'\n",
    "request = urllib2.Request(url)\n",
    "response = urllib2.urlopen(request)\n",
    "html = response.read()\n",
    "print html[:500]"
   ]
  },
  {
   "cell_type": "code",
   "execution_count": 9,
   "metadata": {
    "collapsed": false
   },
   "outputs": [
    {
     "name": "stdout",
     "output_type": "stream",
     "text": [
      "<type 'str'>\n",
      "<type 'instance'>\n"
     ]
    }
   ],
   "source": [
    "print type(html)\n",
    "print type(response)"
   ]
  },
  {
   "cell_type": "markdown",
   "metadata": {},
   "source": [
    "### html에 있는 태그는\n",
    "* 파싱하기 전까지는 문자열\n",
    "* 파싱을 해야 태그가 된다\n",
    "\n",
    "# Parsing\n",
    "* 문자열 사이에서 특정 태그를 추출해낸다.\n",
    "* 문자열을 트리로 바꿔준다.\n",
    "\n",
    "\n",
    "\n",
    "### 파싱단계\n",
    "* 단계1: 라이브러리를 사용할 수 있게 가져온다.\n",
    "  - import xml.etree.ElementTree as ET\n",
    "* 단계2: 페이지를 가져온다 (메모리에 있거나, 파일로 저장)\n",
    "* 단계3: 가져온 페이지를 파싱하고, 트리를 생성한다 (태그로 변환).\n",
    "  - tree=ET.parse('my.xml')\n",
    "* 단계4: 트리에서 필요한 요소를 정한다.\n",
    "\n",
    "* 단계5: 필요한 요소를 가져온다.\n",
    "  - 'namespace' localname으로 가져옴.\n",
    "    - root=tree.getroot()\n",
    "    - root.getiterator():"
   ]
  },
  {
   "cell_type": "code",
   "execution_count": 1,
   "metadata": {
    "collapsed": false,
    "scrolled": false
   },
   "outputs": [
    {
     "data": {
      "text/html": [
       "<html>\n",
       "<body>\n",
       "<h2 class=\"my\">Turn this into blue</h2>\n",
       "<button onclick=\"myFunction()\">Click</button>\n",
       "<script>\n",
       "    function myFunction() {\n",
       "        document.querySelector(\".my\").style.backgroundColor = \"blue\";\n",
       "    }\n",
       "</script>\n",
       "</body>\n",
       "</html>"
      ],
      "text/plain": [
       "<IPython.core.display.HTML object>"
      ]
     },
     "metadata": {},
     "output_type": "display_data"
    }
   ],
   "source": [
    "%%HTML\n",
    "<html>\n",
    "<body>\n",
    "<h2 class=\"my\">Turn this into blue</h2>\n",
    "<button onclick=\"myFunction()\">Click</button>\n",
    "<script>\n",
    "    function myFunction() {\n",
    "        document.querySelector(\".my\").style.backgroundColor = \"blue\";\n",
    "    }\n",
    "</script>\n",
    "</body>\n",
    "</html>"
   ]
  },
  {
   "cell_type": "code",
   "execution_count": 2,
   "metadata": {
    "collapsed": false
   },
   "outputs": [
    {
     "data": {
      "text/html": [
       "<html>\n",
       "<body>\n",
       "    <p id=\"p2\">Hello World!</p>\n",
       "    <script>\n",
       "        document.getElementById(\"p2\").style.color = \"RED\";\n",
       "    </script>\n",
       "    <p>Hello World turned into RED!</p>\n",
       "</body>\n",
       "</html>"
      ],
      "text/plain": [
       "<IPython.core.display.HTML object>"
      ]
     },
     "metadata": {},
     "output_type": "display_data"
    }
   ],
   "source": [
    "%%HTML\n",
    "<html>\n",
    "<body>\n",
    "    <p id=\"p2\">Hello World!</p>\n",
    "    <script>\n",
    "        document.getElementById(\"p2\").style.color = \"RED\";\n",
    "    </script>\n",
    "    <p>Hello World turned into RED!</p>\n",
    "</body>\n",
    "</html>"
   ]
  },
  {
   "cell_type": "code",
   "execution_count": 5,
   "metadata": {
    "collapsed": false,
    "scrolled": true
   },
   "outputs": [
    {
     "name": "stdout",
     "output_type": "stream",
     "text": [
      "<title>Welcome to Python.org</title>\n",
      "[<div class=\"top-bar do-not-print\" id=\"top\">\\n<nav class=\"meta-navigation container\" role=\"navigation\">\\n<div class=\"skip-link screen-reader-text\">\\n<a href=\"#content\" title=\"Skip to content\">Skip to content</a>\\n</div>\\n<a aria-hidden=\"true\" class=\"jump-link\" href=\"#python-network\" id=\"close-python-network\">\\n<span aria-hidden=\"true\" class=\"icon-arrow-down\"><span>\\u25bc</span></span> Close\\n                </a>\\n<ul class=\"menu\" role=\"tree\">\\n<li class=\"python-meta current_item selectedcurrent_branch selected\">\\n<a class=\"current_item selectedcurrent_branch selected\" href=\"/\" title=\"The Python Programming Language\">Python</a>\\n</li>\\n<li class=\"psf-meta \">\\n<a href=\"/psf-landing/\" title=\"The Python Software Foundation\">PSF</a>\\n</li>\\n<li class=\"docs-meta \">\\n<a href=\"https://docs.python.org\" title=\"Python Documentation\">Docs</a>\\n</li>\\n<li class=\"pypi-meta \">\\n<a href=\"https://pypi.python.org/\" title=\"Python Package Index\">PyPI</a>\\n</li>\\n<li class=\"jobs-meta \">\\n<a href=\"/jobs/\" title=\"Python Job Board\">Jobs</a>\\n</li>\\n<li class=\"shop-meta \">\\n<a href=\"/community/\" title=\"Python Community\">Community</a>\\n</li>\\n</ul>\\n<a aria-hidden=\"true\" class=\"jump-link\" href=\"#top\" id=\"python-network\">\\n<span aria-hidden=\"true\" class=\"icon-arrow-up\"><span>\\u25b2</span></span> The Python Network\\n                </a>\\n</nav>\\n</div>]\n"
     ]
    }
   ],
   "source": [
    "from bs4 import BeautifulSoup\n",
    "import requests\n",
    "page = requests.get(\"https://www.python.org/\")\n",
    "soup = BeautifulSoup(page.content)\n",
    "print soup.title\n",
    "print soup.find_all('div',class_=\"do-not-print\", id=\"top\")"
   ]
  },
  {
   "cell_type": "markdown",
   "metadata": {},
   "source": [
    "### 아래방법은 dictionary방법이다.\n",
    "* 위 방법과 출력에는 차이가 없다."
   ]
  },
  {
   "cell_type": "code",
   "execution_count": 6,
   "metadata": {
    "collapsed": false
   },
   "outputs": [
    {
     "name": "stdout",
     "output_type": "stream",
     "text": [
      "[<div class=\"top-bar do-not-print\" id=\"top\">\\n<nav class=\"meta-navigation container\" role=\"navigation\">\\n<div class=\"skip-link screen-reader-text\">\\n<a href=\"#content\" title=\"Skip to content\">Skip to content</a>\\n</div>\\n<a aria-hidden=\"true\" class=\"jump-link\" href=\"#python-network\" id=\"close-python-network\">\\n<span aria-hidden=\"true\" class=\"icon-arrow-down\"><span>\\u25bc</span></span> Close\\n                </a>\\n<ul class=\"menu\" role=\"tree\">\\n<li class=\"python-meta current_item selectedcurrent_branch selected\">\\n<a class=\"current_item selectedcurrent_branch selected\" href=\"/\" title=\"The Python Programming Language\">Python</a>\\n</li>\\n<li class=\"psf-meta \">\\n<a href=\"/psf-landing/\" title=\"The Python Software Foundation\">PSF</a>\\n</li>\\n<li class=\"docs-meta \">\\n<a href=\"https://docs.python.org\" title=\"Python Documentation\">Docs</a>\\n</li>\\n<li class=\"pypi-meta \">\\n<a href=\"https://pypi.python.org/\" title=\"Python Package Index\">PyPI</a>\\n</li>\\n<li class=\"jobs-meta \">\\n<a href=\"/jobs/\" title=\"Python Job Board\">Jobs</a>\\n</li>\\n<li class=\"shop-meta \">\\n<a href=\"/community/\" title=\"Python Community\">Community</a>\\n</li>\\n</ul>\\n<a aria-hidden=\"true\" class=\"jump-link\" href=\"#top\" id=\"python-network\">\\n<span aria-hidden=\"true\" class=\"icon-arrow-up\"><span>\\u25b2</span></span> The Python Network\\n                </a>\\n</nav>\\n</div>]\n"
     ]
    }
   ],
   "source": [
    "print soup.find_all('div',{'class': 'do-not-print','id':'top'})"
   ]
  },
  {
   "cell_type": "code",
   "execution_count": 7,
   "metadata": {
    "collapsed": false
   },
   "outputs": [
    {
     "name": "stdout",
     "output_type": "stream",
     "text": [
      "0 #content\n",
      "1 #python-network\n",
      "2 /\n",
      "3 /psf-landing/\n",
      "4 https://docs.python.org\n",
      "5 https://pypi.python.org/\n",
      "6 /jobs/\n",
      "7 /community/\n",
      "8 #top\n",
      "9 /\n",
      "10 #site-map\n",
      "11 #\n",
      "12 javascript:;\n",
      "13 javascript:;\n",
      "14 javascript:;\n",
      "15 #\n",
      "16 http://plus.google.com/+Python\n",
      "17 http://www.facebook.com/pythonlang?fref=ts\n",
      "18 http://twitter.com/ThePSF\n",
      "19 /community/irc/\n",
      "20 /accounts/login/\n",
      "21 /accounts/signup/\n",
      "22 /accounts/login/\n",
      "23 /about/\n",
      "24 /about/apps/\n",
      "25 /about/quotes/\n",
      "26 /about/gettingstarted/\n",
      "27 /about/help/\n",
      "28 http://brochure.getpython.info/\n",
      "29 /downloads/\n",
      "30 /downloads/\n",
      "31 /downloads/source/\n",
      "32 /downloads/windows/\n",
      "33 /downloads/mac-osx/\n",
      "34 /download/other/\n",
      "35 https://docs.python.org/3/license.html\n",
      "36 /download/alternatives\n",
      "37 /doc/\n",
      "38 /doc/\n",
      "39 /doc/av\n",
      "40 https://wiki.python.org/moin/BeginnersGuide\n",
      "41 https://docs.python.org/devguide/\n",
      "42 https://docs.python.org/faq/\n",
      "43 http://wiki.python.org/moin/Languages\n",
      "44 http://python.org/dev/peps/\n",
      "45 https://wiki.python.org/moin/PythonBooks\n",
      "46 /community/\n",
      "47 /community/diversity/\n",
      "48 /community/irc/\n",
      "49 /community/lists/\n",
      "50 /community/workshops/\n",
      "51 /community/sigs/\n",
      "52 https://wiki.python.org/moin/\n",
      "53 /community/logos/\n",
      "54 /community/merchandise/\n",
      "55 /community/awards\n",
      "56 /about/success/\n",
      "57 /about/success/#arts\n",
      "58 /about/success/#business\n",
      "59 /about/success/#education\n",
      "60 /about/success/#engineering\n",
      "61 /about/success/#government\n",
      "62 /about/success/#scientific\n",
      "63 /about/success/#software-development\n",
      "64 /blogs/\n",
      "65 /blogs/\n",
      "66 http://planetpython.org/\n",
      "67 http://pyfound.blogspot.com/\n",
      "68 http://pycon.blogspot.com/\n",
      "69 /events/\n",
      "70 /events/python-events\n",
      "71 /events/python-user-group/\n",
      "72 /events/python-events/past/\n",
      "73 /events/python-user-group/past/\n",
      "74 https://wiki.python.org/moin/PythonEventsCalendar#Submitting_an_Event\n",
      "75 /shell/\n",
      "76 //docs.python.org/3/tutorial/controlflow.html#defining-functions\n",
      "77 //docs.python.org/3/tutorial/introduction.html#lists\n",
      "78 http://docs.python.org/3/tutorial/introduction.html#using-python-as-a-calculator\n",
      "79 //docs.python.org/3/tutorial/\n",
      "80 //docs.python.org/3/tutorial/controlflow.html\n",
      "81 /doc/\n",
      "82 /about/gettingstarted/\n",
      "83 https://wiki.python.org/moin/Python2orPython3\n",
      "84 /downloads/release/python-360/\n",
      "85 /downloads/release/python-2713/\n",
      "86 https://docs.python.org\n",
      "87 //jobs.python.org\n",
      "88 http://blog.python.org\n",
      "89 http://feedproxy.google.com/~r/PythonInsider/~3/w2AW2NRSOEM/python-361rc1-is-now-available-for.html\n",
      "90 http://feedproxy.google.com/~r/PythonInsider/~3/NeIHRAidlpc/python-353-and-346-are-now-available.html\n",
      "91 http://feedproxy.google.com/~r/PythonInsider/~3/UoiMThSwgQM/python-353rc1-and-python-346rc1-are-now.html\n",
      "92 http://feedproxy.google.com/~r/PythonInsider/~3/4gOtq8ChYHk/python-360-is-now-available.html\n",
      "93 http://feedproxy.google.com/~r/PythonInsider/~3/LLpTSlyUots/python-2713-released.html\n",
      "94 /events/calendars/\n",
      "95 /events/python-user-group/508/\n",
      "96 /events/python-events/498/\n",
      "97 /events/python-events/467/\n",
      "98 /events/python-events/493/\n",
      "99 /events/python-user-group/511/\n",
      "100 /success-stories/\n",
      "101 /success-stories/industrial-light-magic-runs-python/\n",
      "102 /success-stories/industrial-light-magic-runs-python/\n",
      "103 /about/apps\n",
      "104 http://www.djangoproject.com/\n",
      "105 http://www.pylonsproject.org/\n",
      "106 http://bottlepy.org\n",
      "107 http://tornadoweb.org\n",
      "108 http://flask.pocoo.org/\n",
      "109 http://www.web2py.com/\n",
      "110 http://wiki.python.org/moin/TkInter\n",
      "111 https://wiki.gnome.org/Projects/PyGObject\n",
      "112 http://www.riverbankcomputing.co.uk/software/pyqt/intro\n",
      "113 https://wiki.qt.io/PySide\n",
      "114 https://kivy.org/\n",
      "115 http://www.wxpython.org/\n",
      "116 http://www.scipy.org\n",
      "117 http://pandas.pydata.org/\n",
      "118 http://ipython.org\n",
      "119 http://buildbot.net/\n",
      "120 http://trac.edgewall.org/\n",
      "121 http://roundup.sourceforge.net/\n",
      "122 http://www.ansible.com\n",
      "123 http://www.saltstack.com\n",
      "124 https://www.openstack.org\n",
      "125 /dev/peps/\n",
      "126 /dev/peps/peps.rss\n",
      "127 /psf/\n",
      "128 /psf/\n",
      "129 /users/membership/\n",
      "130 /psf/donations/\n",
      "131 #python-network\n",
      "132 /about/\n",
      "133 /about/apps/\n",
      "134 /about/quotes/\n",
      "135 /about/gettingstarted/\n",
      "136 /about/help/\n",
      "137 http://brochure.getpython.info/\n",
      "138 /downloads/\n",
      "139 /downloads/\n",
      "140 /downloads/source/\n",
      "141 /downloads/windows/\n",
      "142 /downloads/mac-osx/\n",
      "143 /download/other/\n",
      "144 https://docs.python.org/3/license.html\n",
      "145 /download/alternatives\n",
      "146 /doc/\n",
      "147 /doc/\n",
      "148 /doc/av\n",
      "149 https://wiki.python.org/moin/BeginnersGuide\n",
      "150 https://docs.python.org/devguide/\n",
      "151 https://docs.python.org/faq/\n",
      "152 http://wiki.python.org/moin/Languages\n",
      "153 http://python.org/dev/peps/\n",
      "154 https://wiki.python.org/moin/PythonBooks\n",
      "155 /community/\n",
      "156 /community/diversity/\n",
      "157 /community/irc/\n",
      "158 /community/lists/\n",
      "159 /community/workshops/\n",
      "160 /community/sigs/\n",
      "161 https://wiki.python.org/moin/\n",
      "162 /community/logos/\n",
      "163 /community/merchandise/\n",
      "164 /community/awards\n",
      "165 /about/success/\n",
      "166 /about/success/#arts\n",
      "167 /about/success/#business\n",
      "168 /about/success/#education\n",
      "169 /about/success/#engineering\n",
      "170 /about/success/#government\n",
      "171 /about/success/#scientific\n",
      "172 /about/success/#software-development\n",
      "173 /blogs/\n",
      "174 /blogs/\n",
      "175 http://planetpython.org/\n",
      "176 http://pyfound.blogspot.com/\n",
      "177 http://pycon.blogspot.com/\n",
      "178 /events/\n",
      "179 /events/python-events\n",
      "180 /events/python-user-group/\n",
      "181 /events/python-events/past/\n",
      "182 /events/python-user-group/past/\n",
      "183 https://wiki.python.org/moin/PythonEventsCalendar#Submitting_an_Event\n",
      "184 /dev/\n",
      "185 http://docs.python.org/devguide/\n",
      "186 http://bugs.python.org/\n",
      "187 https://mail.python.org/mailman/listinfo/python-dev\n",
      "188 /dev/core-mentorship/\n",
      "189 #python-network\n",
      "190 /about/help/\n",
      "191 /community/diversity/\n",
      "192 https://github.com/python/pythondotorg/issues\n",
      "193 https://status.python.org/\n",
      "194 /psf-landing/\n",
      "195 /about/legal/\n",
      "196 /privacy/\n"
     ]
    }
   ],
   "source": [
    "for counter,link in enumerate(soup.find_all('a')):\n",
    "    ##if(counter<20):\n",
    "        print counter,link.get('href')"
   ]
  },
  {
   "cell_type": "markdown",
   "metadata": {},
   "source": [
    "# xpath\n",
    "## html parsing"
   ]
  },
  {
   "cell_type": "code",
   "execution_count": 40,
   "metadata": {
    "collapsed": false
   },
   "outputs": [
    {
     "data": {
      "text/plain": [
       "'src\\\\mypage1.html'"
      ]
     },
     "execution_count": 40,
     "metadata": {},
     "output_type": "execute_result"
    }
   ],
   "source": [
    "import os\n",
    "os.path.join('src','mypage1.html')"
   ]
  },
  {
   "cell_type": "code",
   "execution_count": 53,
   "metadata": {
    "collapsed": false
   },
   "outputs": [
    {
     "ename": "ParseError",
     "evalue": "mismatched tag: line 6, column 2",
     "output_type": "error",
     "traceback": [
      "\u001b[0;36m  File \u001b[0;32m\"<string>\"\u001b[0;36m, line \u001b[0;32munknown\u001b[0m\n\u001b[0;31mParseError\u001b[0m\u001b[0;31m:\u001b[0m mismatched tag: line 6, column 2\n"
     ]
    }
   ],
   "source": [
    "import xml.etree.ElementTree as ET\n",
    "import os\n",
    "tree=ET.parse(os.path.join('src','mypage1.html'))"
   ]
  },
  {
   "cell_type": "code",
   "execution_count": 52,
   "metadata": {
    "collapsed": false
   },
   "outputs": [
    {
     "name": "stdout",
     "output_type": "stream",
     "text": [
      "- 태그: wikimedia -> \n",
      "  \n",
      "- 태그: projects -> \n",
      "    \n",
      "- 태그: project -> \n",
      "      \n",
      "- 태그: editions -> \n",
      "        \n",
      "- 태그: edition -> en.wikipedia.org\n",
      "- 태그: edition -> de.wikipedia.org\n",
      "- 태그: edition -> fr.wikipedia.org\n",
      "- 태그: edition -> pl.wikipedia.org\n",
      "- 태그: edition -> es.wikipedia.org\n",
      "- 태그: project -> \n",
      "      \n",
      "- 태그: editions -> \n",
      "        \n",
      "- 태그: edition -> en.wiktionary.org\n",
      "- 태그: edition -> fr.wiktionary.org\n",
      "- 태그: edition -> vi.wiktionary.org\n",
      "- 태그: edition -> tr.wiktionary.org\n",
      "- 태그: edition -> es.wiktionary.org\n"
     ]
    }
   ],
   "source": [
    "#tree=ET.parse(os.path.join('src','mypage1.html'))\n",
    "for node in tree.getiterator():\n",
    "    print \"- 태그:\", node.tag, \"->\", node.text"
   ]
  },
  {
   "cell_type": "markdown",
   "metadata": {},
   "source": [
    "## src에 있는 mypage.html 파일을 연다. 브라우저의 콘솔창을 열어 태그를 찾는다.\n",
    "\n",
    "* code:\n",
    " * $x('//p')"
   ]
  },
  {
   "cell_type": "markdown",
   "metadata": {},
   "source": [
    "## html 문자열 parsing"
   ]
  },
  {
   "cell_type": "code",
   "execution_count": 55,
   "metadata": {
    "collapsed": false
   },
   "outputs": [],
   "source": [
    "f=open(os.path.join('src','mypage1.html'))\n",
    "htmlstr=f.read()\n",
    "f.close()"
   ]
  },
  {
   "cell_type": "code",
   "execution_count": 66,
   "metadata": {
    "collapsed": false
   },
   "outputs": [
    {
     "name": "stdout",
     "output_type": "stream",
     "text": [
      " -태그: wikimedia {}\n",
      "-태그: projects {}\n",
      "-태그: project {'name': 'Wikipedia', 'launch': '2001-01-05'}\n",
      "-태그: editions {}\n",
      "-태그: edition {'language': 'English'}\n",
      "-태그: edition {'language': 'German'}\n",
      "-태그: edition {'language': 'French'}\n",
      "-태그: edition {'language': 'Polish'}\n",
      "-태그: edition {'language': 'Spanish'}\n",
      "-태그: project {'name': 'Wiktionary', 'launch': '2002-12-12'}\n",
      "-태그: editions {}\n",
      "-태그: edition {'language': 'English'}\n",
      "-태그: edition {'language': 'French'}\n",
      "-태그: edition {'language': 'Vietnamese'}\n",
      "-태그: edition {'language': 'Turkish'}\n",
      "-태그: edition {'language': 'Spanish'}\n"
     ]
    }
   ],
   "source": [
    "#tree=ET.fromstring(htmlstr)\n",
    "for node in tree.getiterator():\n",
    "    print \"-태그:\", node.tag, node.attrib"
   ]
  },
  {
   "cell_type": "markdown",
   "metadata": {},
   "source": [
    "## xml parsing"
   ]
  },
  {
   "cell_type": "code",
   "execution_count": 45,
   "metadata": {
    "collapsed": false
   },
   "outputs": [
    {
     "name": "stdout",
     "output_type": "stream",
     "text": [
      "Overwriting src/my.xml\n"
     ]
    }
   ],
   "source": [
    "%%writefile src/my.xml\n",
    "<?xml version=\"1.0\" encoding=\"utf-8\"?>\n",
    "<wikimedia>\n",
    "  <projects>\n",
    "    <project name=\"Wikipedia\" launch=\"2001-01-05\">\n",
    "      <editions>\n",
    "        <edition language=\"English\">en.wikipedia.org</edition>\n",
    "        <edition language=\"German\">de.wikipedia.org</edition>\n",
    "        <edition language=\"French\">fr.wikipedia.org</edition>\n",
    "        <edition language=\"Polish\">pl.wikipedia.org</edition>\n",
    "        <edition language=\"Spanish\">es.wikipedia.org</edition>\n",
    "      </editions>\n",
    "    </project>\n",
    "    <project name=\"Wiktionary\" launch=\"2002-12-12\">\n",
    "      <editions>\n",
    "        <edition language=\"English\">en.wiktionary.org</edition>\n",
    "        <edition language=\"French\">fr.wiktionary.org</edition>\n",
    "        <edition language=\"Vietnamese\">vi.wiktionary.org</edition>\n",
    "        <edition language=\"Turkish\">tr.wiktionary.org</edition>\n",
    "        <edition language=\"Spanish\">es.wiktionary.org</edition>\n",
    "      </editions>\n",
    "    </project>\n",
    "  </projects>\n",
    "</wikimedia>"
   ]
  },
  {
   "cell_type": "code",
   "execution_count": 67,
   "metadata": {
    "collapsed": false
   },
   "outputs": [
    {
     "name": "stdout",
     "output_type": "stream",
     "text": [
      "<Element 'wikimedia' at 0x5765dd8>\n"
     ]
    }
   ],
   "source": [
    "import xml.etree.ElementTree as ET\n",
    "tree= ET.parse(os.path.join('src','my.xml'))\n",
    "root = tree.getroot()\n",
    "print root"
   ]
  },
  {
   "cell_type": "code",
   "execution_count": 72,
   "metadata": {
    "collapsed": false
   },
   "outputs": [
    {
     "name": "stdout",
     "output_type": "stream",
     "text": [
      "- 태그: wikimedia {}\n",
      "- 태그: projects {}\n",
      "- 태그: project {'name': 'Wikipedia', 'launch': '2001-01-05'}\n",
      "- 태그: editions {}\n",
      "- 태그: edition {'language': 'English'}\n",
      "- 태그: edition {'language': 'German'}\n",
      "- 태그: edition {'language': 'French'}\n",
      "- 태그: edition {'language': 'Polish'}\n",
      "- 태그: edition {'language': 'Spanish'}\n",
      "- 태그: project {'name': 'Wiktionary', 'launch': '2002-12-12'}\n",
      "- 태그: editions {}\n",
      "- 태그: edition {'language': 'English'}\n",
      "- 태그: edition {'language': 'French'}\n",
      "- 태그: edition {'language': 'Vietnamese'}\n",
      "- 태그: edition {'language': 'Turkish'}\n",
      "- 태그: edition {'language': 'Spanish'}\n"
     ]
    }
   ],
   "source": [
    "for node in tree.getiterator():\n",
    "    print \"- 태그:\", node.tag, node.attrib"
   ]
  },
  {
   "cell_type": "code",
   "execution_count": 73,
   "metadata": {
    "collapsed": false
   },
   "outputs": [],
   "source": [
    "f=open(os.path.join('src','my.xml'))\n",
    "xmlstr=f.read()\n",
    "f.close()"
   ]
  },
  {
   "cell_type": "code",
   "execution_count": 75,
   "metadata": {
    "collapsed": false
   },
   "outputs": [
    {
     "name": "stdout",
     "output_type": "stream",
     "text": [
      "<type 'str'>\n"
     ]
    }
   ],
   "source": [
    "print type(xmlstr)"
   ]
  },
  {
   "cell_type": "code",
   "execution_count": 76,
   "metadata": {
    "collapsed": false
   },
   "outputs": [
    {
     "name": "stdout",
     "output_type": "stream",
     "text": [
      "<?xml version=\"1.0\" encoding=\"utf-8\"?>\n",
      "<wikimedia>\n",
      "  <projects>\n",
      "    <project name=\"Wikipedia\" launch=\"2001-01-05\">\n",
      "      <editions>\n",
      "        <edition language=\"English\">en.wikipedia.org</edition>\n",
      "        <edition language=\"German\">de.wikipedia.org</edition>\n",
      "        <edition language=\"French\">fr.wikipedia.org</edition>\n",
      "        <edition language=\"Polish\">pl.wikipedia.org</edition>\n",
      "        <edition language=\"Spanish\">es.wikipedia.org</edition>\n",
      "      </editions>\n",
      "    </project>\n",
      "    <project name=\"Wiktionary\" launch=\"2002-12-12\">\n",
      "      <editions>\n",
      "        <edition language=\"English\">en.wiktionary.org</edition>\n",
      "        <edition language=\"French\">fr.wiktionary.org</edition>\n",
      "        <edition language=\"Vietnamese\">vi.wiktionary.org</edition>\n",
      "        <edition language=\"Turkish\">tr.wiktionary.org</edition>\n",
      "        <edition language=\"Spanish\">es.wiktionary.org</edition>\n",
      "      </editions>\n",
      "    </project>\n",
      "  </projects>\n",
      "</wikimedia>\n"
     ]
    }
   ],
   "source": [
    "print xmlstr"
   ]
  },
  {
   "cell_type": "code",
   "execution_count": 86,
   "metadata": {
    "collapsed": false
   },
   "outputs": [
    {
     "name": "stdout",
     "output_type": "stream",
     "text": [
      "- 태그: wikimedia {}\n",
      "- 태그: projects {}\n",
      "- 태그: project {'name': 'Wikipedia', 'launch': '2001-01-05'}\n",
      "- 태그: editions {}\n",
      "- 태그: edition {'language': 'English'}\n",
      "- 태그: edition {'language': 'German'}\n",
      "- 태그: edition {'language': 'French'}\n",
      "- 태그: edition {'language': 'Polish'}\n",
      "- 태그: edition {'language': 'Spanish'}\n",
      "- 태그: project {'name': 'Wiktionary', 'launch': '2002-12-12'}\n",
      "- 태그: editions {}\n",
      "- 태그: edition {'language': 'English'}\n",
      "- 태그: edition {'language': 'French'}\n",
      "- 태그: edition {'language': 'Vietnamese'}\n",
      "- 태그: edition {'language': 'Turkish'}\n",
      "- 태그: edition {'language': 'Spanish'}\n"
     ]
    }
   ],
   "source": [
    "import xml.etree.ElementTree as ET\n",
    "tree=ET.fromstring(xmlstr)\n",
    "for node in tree.getiterator():\n",
    "    print \"- 태그:\", node.tag, node.attrib"
   ]
  },
  {
   "cell_type": "code",
   "execution_count": 87,
   "metadata": {
    "collapsed": true
   },
   "outputs": [],
   "source": [
    "import lxml\n",
    "import lxml.etree\n",
    "\n",
    "tree=lxml.etree.parse(os.path.join('src','my.xml'))\n",
    "root=tree.getroot()"
   ]
  },
  {
   "cell_type": "code",
   "execution_count": 88,
   "metadata": {
    "collapsed": false
   },
   "outputs": [
    {
     "name": "stdout",
     "output_type": "stream",
     "text": [
      "- 태그: wikimedia {}\n",
      "- 태그: projects {}\n",
      "- 태그: project {'name': 'Wikipedia', 'launch': '2001-01-05'}\n",
      "- 태그: editions {}\n",
      "- 태그: edition {'language': 'English'}\n",
      "- 태그: edition {'language': 'German'}\n",
      "- 태그: edition {'language': 'French'}\n",
      "- 태그: edition {'language': 'Polish'}\n",
      "- 태그: edition {'language': 'Spanish'}\n",
      "- 태그: project {'name': 'Wiktionary', 'launch': '2002-12-12'}\n",
      "- 태그: editions {}\n",
      "- 태그: edition {'language': 'English'}\n",
      "- 태그: edition {'language': 'French'}\n",
      "- 태그: edition {'language': 'Vietnamese'}\n",
      "- 태그: edition {'language': 'Turkish'}\n",
      "- 태그: edition {'language': 'Spanish'}\n"
     ]
    }
   ],
   "source": [
    "import StringIO\n",
    "tree=lxml.etree.parse(StringIO.StringIO(xmlstr))\n",
    "\n",
    "for node in tree.getiterator():\n",
    "    print \"- 태그:\",node.tag, node.attrib"
   ]
  },
  {
   "cell_type": "code",
   "execution_count": 97,
   "metadata": {
    "collapsed": false
   },
   "outputs": [
    {
     "data": {
      "text/plain": [
       "lxml.etree.iterparse"
      ]
     },
     "execution_count": 97,
     "metadata": {},
     "output_type": "execute_result"
    }
   ],
   "source": [
    "treeiter=lxml.etree.iterparse(StringIO.StringIO(xmlstr))\n",
    "\n",
    "type(treeiter)"
   ]
  },
  {
   "cell_type": "code",
   "execution_count": 98,
   "metadata": {
    "collapsed": false
   },
   "outputs": [
    {
     "name": "stdout",
     "output_type": "stream",
     "text": [
      "edition=>en.wikipedia.org\n",
      "edition=>de.wikipedia.org\n",
      "edition=>fr.wikipedia.org\n",
      "edition=>pl.wikipedia.org\n",
      "edition=>es.wikipedia.org\n",
      "editions=>\n",
      "        \n",
      "project=>\n",
      "      \n",
      "edition=>en.wiktionary.org\n",
      "edition=>fr.wiktionary.org\n",
      "edition=>vi.wiktionary.org\n",
      "edition=>tr.wiktionary.org\n",
      "edition=>es.wiktionary.org\n",
      "editions=>\n",
      "        \n",
      "project=>\n",
      "      \n",
      "projects=>\n",
      "    \n",
      "wikimedia=>\n",
      "  \n"
     ]
    }
   ],
   "source": [
    "for action, elem in treeiter:\n",
    "    if not elem.text:\n",
    "        text=\"None\"\n",
    "    else:\n",
    "        text=elem.text\n",
    "    print elem.tag+\"=>\"+text"
   ]
  },
  {
   "cell_type": "code",
   "execution_count": 92,
   "metadata": {
    "collapsed": false
   },
   "outputs": [
    {
     "name": "stdout",
     "output_type": "stream",
     "text": [
      "2\n"
     ]
    }
   ],
   "source": [
    "nodes = tree.xpath(\"/wikimedia/projects/project/@name\")\n",
    "print len(nodes)"
   ]
  },
  {
   "cell_type": "code",
   "execution_count": null,
   "metadata": {
    "collapsed": true
   },
   "outputs": [],
   "source": []
  },
  {
   "cell_type": "markdown",
   "metadata": {},
   "source": [
    "# CSS Selector"
   ]
  },
  {
   "cell_type": "code",
   "execution_count": 94,
   "metadata": {
    "collapsed": false
   },
   "outputs": [
    {
     "data": {
      "text/plain": [
       "lxml.etree._ElementTree"
      ]
     },
     "execution_count": 94,
     "metadata": {},
     "output_type": "execute_result"
    }
   ],
   "source": [
    "type(tree)"
   ]
  },
  {
   "cell_type": "code",
   "execution_count": 93,
   "metadata": {
    "collapsed": false
   },
   "outputs": [
    {
     "name": "stdout",
     "output_type": "stream",
     "text": [
      "<type 'list'> 1\n"
     ]
    }
   ],
   "source": [
    "import lxml.html\n",
    "from lxml.cssselect import CSSSelector\n",
    "\n",
    "#construct a CSS Selector\n",
    "sel = CSSSelector('wikimedia')\n",
    "\n",
    "#Apply the selectyor to the DOM tree\n",
    "nodes = sel(tree)\n",
    "print type(nodes),len(nodes)"
   ]
  },
  {
   "cell_type": "code",
   "execution_count": 95,
   "metadata": {
    "collapsed": false
   },
   "outputs": [
    {
     "name": "stdout",
     "output_type": "stream",
     "text": [
      "<wikimedia>\n",
      "  <projects>\n",
      "    <project name=\"Wikipedia\" launch=\"2001-01-05\">\n",
      "      <editions>\n",
      "        <edition language=\"English\">en.wikipedia.org</edition>\n",
      "        <edition language=\"German\">de.wikipedia.org</edition>\n",
      "        <edition language=\"French\">fr.wikipedia.org</edition>\n",
      "        <edition language=\"Polish\">pl.wikipedia.org</edition>\n",
      "        <edition language=\"Spanish\">es.wikipedia.org</edition>\n",
      "      </editions>\n",
      "    </project>\n",
      "    <project name=\"Wiktionary\" launch=\"2002-12-12\">\n",
      "      <editions>\n",
      "        <edition language=\"English\">en.wiktionary.org</edition>\n",
      "        <edition language=\"French\">fr.wiktionary.org</edition>\n",
      "        <edition language=\"Vietnamese\">vi.wiktionary.org</edition>\n",
      "        <edition language=\"Turkish\">tr.wiktionary.org</edition>\n",
      "        <edition language=\"Spanish\">es.wiktionary.org</edition>\n",
      "      </editions>\n",
      "    </project>\n",
      "  </projects>\n",
      "</wikimedia>\n"
     ]
    }
   ],
   "source": [
    "for node in nodes:\n",
    "    print lxml.html.tostring(node)"
   ]
  },
  {
   "cell_type": "code",
   "execution_count": 99,
   "metadata": {
    "collapsed": false
   },
   "outputs": [
    {
     "name": "stdout",
     "output_type": "stream",
     "text": [
      "Writing src/mypage3.html\n"
     ]
    }
   ],
   "source": [
    "%%writefile src/mypage3.html\n",
    "<!DOCTYPE html>\n",
    "<html>\n",
    "<head>\n",
    "    <meta charset=\"UTF-8\">\n",
    "    <title>My Home Page</title>\n",
    "    <style>\n",
    "        h1 {\n",
    "            text-align: center;\n",
    "            color:red;\n",
    "            font-family: 'Droid Sans', sans-serif;\n",
    "        };  \n",
    "    </style>\n",
    "</head>\n",
    "<body>\n",
    "    <h1>안녕하십니까</h1>\n",
    "    <p>오늘은 프로그래밍 하는 날...</p>\n",
    "    <p>Today we do programming...</p>\n",
    "\n",
    "    <div id=\"divid\">\n",
    "        <h2>Hello h2</h2>\n",
    "        <p>Here we use div id.</p>\n",
    "        <a href=\"https://www.example.com\">Visit example.com</a>\n",
    "    </div>\n",
    "    <div class=\"divclass\">\n",
    "        <h2>Welcome</h2>\n",
    "        <p>Here we use div class.</p>\n",
    "        <ul>\n",
    "            <li>first</li>\n",
    "            <li>second</li>\n",
    "        </ul>\n",
    "    </div>\n",
    "\n",
    "    <form action=\"\">\n",
    "    Email <input type=\"email\" value=\"emailvalue\" name=\"emailname\" id=\"emailid\"\n",
    "        class=\"emailclass\" style=\"background-color: green;\"required>\n",
    "    Zip Code <input type=\"number\" name=\"zipname\" required>\n",
    "    <textarea rows=\"4\" columns=\"50\"></textarea>\n",
    "    <input type=\"submit\" value=\"Submit\">\n",
    "    </form>\n",
    "</body>\n",
    "</html>"
   ]
  },
  {
   "cell_type": "code",
   "execution_count": 100,
   "metadata": {
    "collapsed": false
   },
   "outputs": [
    {
     "data": {
      "text/html": [
       "<h1>안녕하십니까</h1>\n",
       "<p>오늘은 프로그래밍 하는 날...</p>\n",
       "<p>Today we do programming...</p>\n",
       "\n",
       "<div id=\"divid\">\n",
       "    <h2>Hello h2</h2>\n",
       "    <p>Here we use div id.</p>\n",
       "</div>\n",
       "<div class=\"divclass\">\n",
       "    <h2>Welcome</h2>\n",
       "    <p>Here we use div class.</p>\n",
       "    <a href=\"https://www.example.com\">Visit example.com</a>\n",
       "</div>\n",
       "\n",
       "<form action=\"\">\n",
       "Email <input type=\"email\" value=\"emailvalue\" name=\"emailname\" id=\"emailid\"\n",
       "    class=\"emailclass\" style=\"background-color: green;\"required>\n",
       "Zip Code <input type=\"number\" name=\"zipname\" required>\n",
       "<textarea rows=\"4\" columns=\"50\"></textarea>\n",
       "<input type=\"submit\" value=\"Submit\">\n",
       "</form>"
      ],
      "text/plain": [
       "<IPython.core.display.HTML object>"
      ]
     },
     "metadata": {},
     "output_type": "display_data"
    }
   ],
   "source": [
    "%%html\n",
    "<h1>안녕하십니까</h1>\n",
    "<p>오늘은 프로그래밍 하는 날...</p>\n",
    "<p>Today we do programming...</p>\n",
    "\n",
    "<div id=\"divid\">\n",
    "    <h2>Hello h2</h2>\n",
    "    <p>Here we use div id.</p>\n",
    "</div>\n",
    "<div class=\"divclass\">\n",
    "    <h2>Welcome</h2>\n",
    "    <p>Here we use div class.</p>\n",
    "    <a href=\"https://www.example.com\">Visit example.com</a>\n",
    "</div>\n",
    "\n",
    "<form action=\"\">\n",
    "Email <input type=\"email\" value=\"emailvalue\" name=\"emailname\" id=\"emailid\"\n",
    "    class=\"emailclass\" style=\"background-color: green;\"required>\n",
    "Zip Code <input type=\"number\" name=\"zipname\" required>\n",
    "<textarea rows=\"4\" columns=\"50\"></textarea>\n",
    "<input type=\"submit\" value=\"Submit\">\n",
    "</form>"
   ]
  },
  {
   "cell_type": "markdown",
   "metadata": {},
   "source": [
    "# python.org 페이지를 크롤링해서 http url 출력"
   ]
  },
  {
   "cell_type": "code",
   "execution_count": 101,
   "metadata": {
    "collapsed": false
   },
   "outputs": [
    {
     "name": "stdout",
     "output_type": "stream",
     "text": [
      "47426\n"
     ]
    }
   ],
   "source": [
    "import requests\n",
    "rResponse = requests.get('http://python.org/')\n",
    "_html = rResponse.text\n",
    "print len(_html)"
   ]
  },
  {
   "cell_type": "code",
   "execution_count": 102,
   "metadata": {
    "collapsed": false
   },
   "outputs": [
    {
     "name": "stdout",
     "output_type": "stream",
     "text": [
      "47426\n"
     ]
    }
   ],
   "source": [
    "import urllib\n",
    "uResponse = urllib.urlopen('http://python.org/')\n",
    "_html = uResponse.read()\n",
    "print len(_html)"
   ]
  },
  {
   "cell_type": "code",
   "execution_count": 103,
   "metadata": {
    "collapsed": false
   },
   "outputs": [
    {
     "name": "stdout",
     "output_type": "stream",
     "text": [
      "{'Content-Length': '47426', 'Via': '1.1 varnish', 'X-Cache': 'HIT', 'Accept-Ranges': 'bytes', 'X-Timer': 'S1490687196.819867,VS0,VE0', 'Vary': 'Cookie', 'X-Served-By': 'cache-nrt6127-NRT', 'Server': 'nginx', 'Connection': 'keep-alive', 'Age': '2468', 'X-Cache-Hits': '50', 'Public-Key-Pins': 'max-age=600; includeSubDomains; pin-sha256=\"WoiWRyIOVNa9ihaBciRSC7XHjliYS9VwUGOIud4PB18=\"; pin-sha256=\"5C8kvU039KouVrl52D0eZSGf4Onjo4Khs8tmyTlV3nU=\"; pin-sha256=\"5C8kvU039KouVrl52D0eZSGf4Onjo4Khs8tmyTlV3nU=\"; pin-sha256=\"lCppFqbkrlJ3EcVFAkeip0+44VaoJUymbnOaEUk7tEU=\"; pin-sha256=\"TUDnr0MEoJ3of7+YliBMBVFB4/gJsv5zO7IxD9+YoWI=\"; pin-sha256=\"x4QzPSC810K5/cMjb05Qm4k3Bw5zBn4lTdO/nEW/Td4=\";', 'Strict-Transport-Security': 'max-age=63072000; includeSubDomains', 'Date': 'Tue, 28 Mar 2017 07:46:36 GMT', 'X-Frame-Options': 'SAMEORIGIN', 'Content-Type': 'text/html; charset=utf-8', 'X-Clacks-Overhead': 'GNU Terry Pratchett'}\n"
     ]
    }
   ],
   "source": [
    "print rResponse.headers"
   ]
  },
  {
   "cell_type": "code",
   "execution_count": 104,
   "metadata": {
    "collapsed": false
   },
   "outputs": [
    {
     "name": "stdout",
     "output_type": "stream",
     "text": [
      "Server: nginx\r\n",
      "Content-Type: text/html; charset=utf-8\r\n",
      "X-Frame-Options: SAMEORIGIN\r\n",
      "X-Clacks-Overhead: GNU Terry Pratchett\r\n",
      "Content-Length: 47426\r\n",
      "Accept-Ranges: bytes\r\n",
      "Date: Tue, 28 Mar 2017 07:47:18 GMT\r\n",
      "Via: 1.1 varnish\r\n",
      "Age: 2509\r\n",
      "Connection: close\r\n",
      "X-Served-By: cache-nrt6124-NRT\r\n",
      "X-Cache: HIT\r\n",
      "X-Cache-Hits: 38\r\n",
      "X-Timer: S1490687238.445722,VS0,VE0\r\n",
      "Vary: Cookie\r\n",
      "Public-Key-Pins: max-age=600; includeSubDomains; pin-sha256=\"WoiWRyIOVNa9ihaBciRSC7XHjliYS9VwUGOIud4PB18=\"; pin-sha256=\"5C8kvU039KouVrl52D0eZSGf4Onjo4Khs8tmyTlV3nU=\"; pin-sha256=\"5C8kvU039KouVrl52D0eZSGf4Onjo4Khs8tmyTlV3nU=\"; pin-sha256=\"lCppFqbkrlJ3EcVFAkeip0+44VaoJUymbnOaEUk7tEU=\"; pin-sha256=\"TUDnr0MEoJ3of7+YliBMBVFB4/gJsv5zO7IxD9+YoWI=\"; pin-sha256=\"x4QzPSC810K5/cMjb05Qm4k3Bw5zBn4lTdO/nEW/Td4=\";\r\n",
      "Strict-Transport-Security: max-age=63072000; includeSubDomains\r\n",
      "\n"
     ]
    }
   ],
   "source": [
    "print uResponse.info()"
   ]
  },
  {
   "cell_type": "code",
   "execution_count": 106,
   "metadata": {
    "collapsed": false
   },
   "outputs": [
    {
     "name": "stdout",
     "output_type": "stream",
     "text": [
      "http url은 몇개? 44\n",
      "0 http://www.ie6countdown.com/\n",
      "1 http://browsehappy.com/\n",
      "2 http://www.google.com/chromeframe/?redirect=true\n",
      "3 http://plus.google.com/+Python\n",
      "4 http://www.facebook.com/pythonlang?fref=ts\n",
      "5 http://twitter.com/ThePSF\n",
      "6 http://brochure.getpython.info/\n",
      "7 http://wiki.python.org/moin/Languages\n",
      "8 http://python.org/dev/peps/\n",
      "9 http://planetpython.org/\n",
      "10 http://pyfound.blogspot.com/\n",
      "11 http://pycon.blogspot.com/\n",
      "12 http://docs.python.org/3/tutorial/introduction.html#using-python-as-a-calculator\n",
      "13 http://blog.python.org\n",
      "14 http://feedproxy.google.com/~r/PythonInsider/~3/C-xfWJKP0-A/python-361-is-now-available.html\n",
      "15 http://feedproxy.google.com/~r/PythonInsider/~3/w2AW2NRSOEM/python-361rc1-is-now-available-for.html\n",
      "16 http://feedproxy.google.com/~r/PythonInsider/~3/NeIHRAidlpc/python-353-and-346-are-now-available.html\n",
      "17 http://feedproxy.google.com/~r/PythonInsider/~3/UoiMThSwgQM/python-353rc1-and-python-346rc1-are-now.html\n",
      "18 http://feedproxy.google.com/~r/PythonInsider/~3/4gOtq8ChYHk/python-360-is-now-available.html\n",
      "19 http://www.djangoproject.com/\n",
      "20 http://www.pylonsproject.org/\n",
      "21 http://bottlepy.org\n",
      "22 http://tornadoweb.org\n",
      "23 http://flask.pocoo.org/\n",
      "24 http://www.web2py.com/\n",
      "25 http://wiki.python.org/moin/TkInter\n",
      "26 http://www.riverbankcomputing.co.uk/software/pyqt/intro\n",
      "27 http://www.wxpython.org/\n",
      "28 http://www.scipy.org\n",
      "29 http://pandas.pydata.org/\n",
      "30 http://ipython.org\n",
      "31 http://buildbot.net/\n",
      "32 http://trac.edgewall.org/\n",
      "33 http://roundup.sourceforge.net/\n",
      "34 http://www.ansible.com\n",
      "35 http://www.saltstack.com\n",
      "36 http://brochure.getpython.info/\n",
      "37 http://wiki.python.org/moin/Languages\n",
      "38 http://python.org/dev/peps/\n",
      "39 http://planetpython.org/\n",
      "40 http://pyfound.blogspot.com/\n",
      "41 http://pycon.blogspot.com/\n",
      "42 http://docs.python.org/devguide/\n",
      "43 http://bugs.python.org/\n"
     ]
    }
   ],
   "source": [
    "import re\n",
    "\n",
    "#p=re.compile('http://.+\"')\n",
    "p=re.compile('href=\"(http://.*?)\"')\n",
    "nodes = p.findall(_html)\n",
    "\n",
    "print \"http url은 몇개?\", len(nodes)\n",
    "\n",
    "for i, node in enumerate(nodes):\n",
    "    print i,node"
   ]
  },
  {
   "cell_type": "code",
   "execution_count": 107,
   "metadata": {
    "collapsed": false
   },
   "outputs": [
    {
     "name": "stdout",
     "output_type": "stream",
     "text": [
      "Functions Defined\n",
      "Compound Data Types\n",
      "Intuitive Interpretation\n",
      "Quick &amp; Easy to Learn\n",
      "All the Flow You&rsquo;d Expect\n"
     ]
    }
   ],
   "source": [
    "import re\n",
    "\n",
    "p=re.compile('<h1>(.*?)</h1>')\n",
    "h1tags=p.findall(_html)\n",
    "\n",
    "for tag in h1tags:\n",
    "    print tag"
   ]
  },
  {
   "cell_type": "code",
   "execution_count": 115,
   "metadata": {
    "collapsed": false
   },
   "outputs": [
    {
     "name": "stdout",
     "output_type": "stream",
     "text": [
      "<strong>Notice:</strong> While Javascript is not essential for this website, your interaction with the content will be limited. Please turn Javascript on for the full experience. \n",
      "\n",
      "<strong>Notice:</strong> Your browser is <em>ancient</em> and <a href=\"http://www.ie6countdown.com/\">Microsoft agrees</a>. <a href=\"http://browsehappy.com/\">Upgrade to a different browser</a> or <a href=\"http://www.google.com/chromeframe/?redirect=true\">install Google Chrome Frame</a> to experience a better web.\n",
      "\n",
      "The core of extensible programming is defining functions. Python allows mandatory and optional arguments, keyword arguments, and even arbitrary argument lists. <a href=\"//docs.python.org/3/tutorial/controlflow.html#defining-functions\">More about defining functions in Python&nbsp;3</a>\n",
      "\n",
      "Lists (known as arrays in other languages) are one of the compound data types that Python understands. Lists can be indexed, sliced and manipulated with other built-in functions. <a href=\"//docs.python.org/3/tutorial/introduction.html#lists\">More about lists in Python&nbsp;3</a>\n",
      "\n",
      "Calculations are simple with Python, and expression syntax is straightforward: the operators <code>+</code>, <code>-</code>, <code>*</code> and <code>/</code> work as expected; parentheses <code>()</code> can be used for grouping. <a href=\"http://docs.python.org/3/tutorial/introduction.html#using-python-as-a-calculator\">More about simple math functions in Python&nbsp;3</a>.\n",
      "\n",
      "Experienced programmers in any other language can pick up Python very quickly, and beginners find the clean syntax and indentation structure easy to learn. <a href=\"//docs.python.org/3/tutorial/\">Whet your appetite</a> with our Python&nbsp;3 overview.\n",
      "\n",
      "Python knows the usual control flow statements that other languages speak &mdash; <code>if</code>, <code>for</code>, <code>while</code> and <code>range</code> &mdash; with some of its own twists, of course. <a href=\"//docs.python.org/3/tutorial/controlflow.html\">More control flow tools in Python&nbsp;3</a>\n",
      "\n",
      "Python is a programming language that lets you work quickly <span class=\"breaker\"></span>and integrate systems more effectively. <a class=\"readmore\" href=\"/doc/\">Learn More</a>\n",
      "\n",
      "Whether you're new to programming or an experienced developer, it's easy to learn and use Python.\n",
      "\n",
      "<a href=\"/about/gettingstarted/\">Start with our Beginner&rsquo;s Guide</a>\n",
      "\n",
      "Python source code and installers are available for download for all versions! Not sure which version to use? <a href=\"https://wiki.python.org/moin/Python2orPython3\">Check here</a>.\n",
      "\n",
      "Latest: <a href=\"/downloads/release/python-361/\">Python 3.6.1</a> - <a href=\"/downloads/release/python-2713/\">Python 2.7.13</a>\n",
      "\n",
      "Documentation for Python's standard library, along with tutorials and guides, are available online.\n",
      "\n",
      "<a href=\"https://docs.python.org\">docs.python.org</a>\n",
      "\n",
      "Looking for work or have a Python related position that you're trying to hire for? Our <strong>relaunched community-run job board</strong> is the place to go.\n",
      "\n",
      "<a href=\"//jobs.python.org\">jobs.python.org</a>\n",
      "\n",
      "<a href=\"/success-stories/industrial-light-magic-runs-python/\">Industrial Light &amp; Magic Runs on Python</a> <em>by Tim Fortenberry</em>\n",
      "\n",
      "The mission of the Python Software Foundation is to promote, protect, and advance the Python programming language, and to support and facilitate the growth of a diverse and international community of Python programmers. <a class=\"readmore\" href=\"/psf/\">Learn more</a> \n",
      "\n",
      "18\n",
      "<strong>Notice:</strong> While Javascript is not essential for this website, your interaction with the content will be limited. Please turn Javascript on for the full experience. \n"
     ]
    }
   ],
   "source": [
    "import re\n",
    "\n",
    "p=re.compile('<p>(.*?)</p>')\n",
    "ptags=p.findall(_html)\n",
    "\n",
    "for tag in ptags:\n",
    "    print tag+\"\\n\"\n",
    "print len(ptags)\n",
    "#print ptags[0]"
   ]
  },
  {
   "cell_type": "markdown",
   "metadata": {},
   "source": [
    "# xpath, css selector를 Chrom javascript console에서 확인해보자."
   ]
  },
  {
   "cell_type": "code",
   "execution_count": null,
   "metadata": {
    "collapsed": true
   },
   "outputs": [],
   "source": []
  },
  {
   "cell_type": "code",
   "execution_count": null,
   "metadata": {
    "collapsed": true
   },
   "outputs": [],
   "source": []
  },
  {
   "cell_type": "code",
   "execution_count": null,
   "metadata": {
    "collapsed": true
   },
   "outputs": [],
   "source": []
  },
  {
   "cell_type": "code",
   "execution_count": 11,
   "metadata": {
    "collapsed": false
   },
   "outputs": [
    {
     "name": "stdout",
     "output_type": "stream",
     "text": [
      "Overwriting src/ds_2_web_crawl_python.py\n"
     ]
    }
   ],
   "source": [
    "%%writefile src/ds_2_web_crawl_python.py\n",
    "#coding: utf-8\n",
    "\n",
    "import lxml.html\n",
    "from lxml.cssselect import CSSSelector\n",
    "import requests\n",
    "import re\n",
    "r = requests.get('http://python.org/')\n",
    "html = r.text\n",
    "\n",
    "p=re.compile('<h1>(.*?)</h1>')\n",
    "litags = p.findall(html)\n",
    "for tag in litags:\n",
    "    print tag\n",
    "    print \"----------\""
   ]
  },
  {
   "cell_type": "markdown",
   "metadata": {},
   "source": [
    "# 웹데이터-5 : 국제학회 목록을 크롤링하기"
   ]
  },
  {
   "cell_type": "code",
   "execution_count": 116,
   "metadata": {
    "collapsed": false
   },
   "outputs": [
    {
     "name": "stdout",
     "output_type": "stream",
     "text": [
      "Writing src/ds_2_web_crawl_ieee.py\n"
     ]
    }
   ],
   "source": [
    "%%writefile src/ds_2_web_crawl_ieee.py\n",
    "# coding: utf-8\n",
    "import lxml.html\n",
    "from lxml.cssselect import CSSSelector\n",
    "import requests\n",
    "r = requests.get('http://www.ieee.org/conferences_events/conferences/search/index.html')\n",
    "\n",
    "html = lxml.html.fromstring(r.text)\n",
    "sel=CSSSelector('div.content-r-full table.nogrid-nopad tr p>a[href]')\n",
    "nodes = sel(html)\n",
    "for node in nodes:\n",
    "    print node.text\n",
    "    print \"----------\""
   ]
  },
  {
   "cell_type": "code",
   "execution_count": 15,
   "metadata": {
    "collapsed": false
   },
   "outputs": [
    {
     "name": "stdout",
     "output_type": "stream",
     "text": [
      "Overwriting src/ds_2_web_crawl_ieee2.py\n"
     ]
    }
   ],
   "source": [
    "%%writefile src/ds_2_web_crawl_ieee2.py\n",
    "# coding: utf-8\n",
    "import lxml.html\n",
    "from lxml.cssselect import CSSSelector\n",
    "import requests\n",
    "r = requests.get('http://www.ieee.org/conferences_events/conferences/search/index.html')\n",
    "\n",
    "html = lxml.html.fromstring(r.text)\n",
    "sel=CSSSelector('nav ul li>a[href]')\n",
    "nodes = sel(html)\n",
    "for node in nodes:\n",
    "    print node.text\n",
    "    print \"----------\""
   ]
  },
  {
   "cell_type": "markdown",
   "metadata": {},
   "source": [
    "# 웹데이터-6 : 프로야구"
   ]
  },
  {
   "cell_type": "code",
   "execution_count": 46,
   "metadata": {
    "collapsed": false
   },
   "outputs": [
    {
     "name": "stdout",
     "output_type": "stream",
     "text": [
      "Writing src/ds_web_crawl_kbaseball1.py\n"
     ]
    }
   ],
   "source": [
    "%%writefile src/ds_web_crawl_kbaseball1.py\n",
    "# coding: utf-8\n",
    "import lxml.html\n",
    "from lxml.cssselect import CSSSelector\n",
    "import requests\n",
    "\n",
    "def getkb():\n",
    "    r = requests.get('http://www.kbreport.com/main')\n",
    "    \n",
    "    html = lxml.html.fromstring(r.text)\n",
    "    sel=CSSSelector('div.team-rank-boxc table.team-rank tbody tr')\n",
    "    sel2=CSSSelector('div.team-rank-boxc table.team-rank tbody tr>a[href]')\n",
    "    nodes = sel(html)\n",
    "    node = sel2(html)\n",
    "    print \"테이블 행 갯수 : \",len(nodes)\n",
    "\n",
    "    counter=0\n",
    "    for node in nodes:\n",
    "        for col in node:\n",
    "            if cols.xpath('.//a/text()'):\n",
    "                print cols.xpath('.//a/text()')[0],\n",
    "            else:\n",
    "                print cols.text.strip(),\n",
    "            print node.text.strip(),\n",
    "\n",
    "def main():\n",
    "    getkb()\n",
    "    \n",
    "if __name__=='__main__':\n",
    "    main()"
   ]
  },
  {
   "cell_type": "code",
   "execution_count": 48,
   "metadata": {
    "collapsed": false
   },
   "outputs": [
    {
     "name": "stdout",
     "output_type": "stream",
     "text": [
      "Overwriting src/ds_web_crawl_kbaseball.py\n"
     ]
    }
   ],
   "source": [
    "%%writefile src/ds_web_crawl_kbaseball.py\n",
    "#coding: utf-8\n",
    "import requests\n",
    "import lxml.etree\n",
    "\n",
    "def getkb():\n",
    "    r = requests.get('http://www.kbreport.com/main')\n",
    "    htmlTree = lxml.etree.HTML(r.text)\n",
    "    nodes = htmlTree.xpath(\"//div[@class='team-rank-box']//table[@class='team-rank']//tr\")\n",
    "    print \"테이블 행 갯 수: \", len(nodes)\n",
    "    counter=0\n",
    "    for teams in nodes:\n",
    "        for cols in teams:\n",
    "            if cols.xpath('.//a/text()'):\n",
    "                print cols.xpath('.//a/text()')[0],\n",
    "            else:\n",
    "                print cols.text.strip(),\n",
    "        print\n",
    "\n",
    "def main():\n",
    "    getkb()\n",
    "\n",
    "if __name__ == \"__main__\":\n",
    "    main()"
   ]
  },
  {
   "cell_type": "markdown",
   "metadata": {},
   "source": [
    "# 학회명, 학회일시, 학회장소를 구분해서 추출해 본다."
   ]
  },
  {
   "cell_type": "code",
   "execution_count": 6,
   "metadata": {
    "collapsed": false
   },
   "outputs": [
    {
     "name": "stdout",
     "output_type": "stream",
     "text": [
      "None\n",
      "----------\n",
      "None\n",
      "----------\n",
      "VIRTUAL\n",
      "----------\n",
      "Drones and Autonomous Systems Lab (DASL)\n",
      "----------\n",
      "Chancery Pavilion Hotel\n",
      "----------\n",
      "University of Colorado, Boulder\n",
      "----------\n",
      "Indian Institute of Technology\n",
      "----------\n",
      "Department of Computer Science and Engineering (CSE)\n",
      "----------\n",
      "Manav Rachna International University\n",
      "----------\n",
      "VNR VJIET\n",
      "----------\n",
      "Karpagam College of Engineering\n",
      "----------\n",
      "Sri Shakthi Institute of Engineering and Technology\n",
      "----------\n"
     ]
    }
   ],
   "source": [
    "import lxml.html\n",
    "from lxml.cssselect import CSSSelector\n",
    "import requests\n",
    "r = requests.get('http://www.ieee.org/conferences_events/conferences/search/index.html?RANGE_FROM_DATE=2017-01-01&RANGE_TO_DATE=2030-12-31&KEYWORDS=&COUNTRY=ALL&STATE=ALL&CITY=ALL&REGION=ALL&RECORD_NUM=ALL&SPONSOR=ALL&EXHIBIT=ALL&TUTORIALS=ALL&RowsPerPage=10&PageLinkNum=10&ActivePage=1&SORTORDER=asc&SORTFIELD=start_date&ROWSTART=0&CONF_SRCH_RDO=conf_date&utm_source=mm_link&utm_campaign=upcom&utm_medium=conf&utm_term=upcoming%20conferences')\n",
    "\n",
    "html = lxml.html.fromstring(r.text)\n",
    "sel=CSSSelector('#inner-container > div.content-gray > div.box-lr-top > div.content-r-full > div > table > tbody > tr > td:nth-child(3) > p:nth-child(1) > a')\n",
    "nodes = sel(html)\n",
    "for node in nodes:\n",
    "    print node.text\n",
    "    print \"----------\""
   ]
  },
  {
   "cell_type": "markdown",
   "metadata": {},
   "source": [
    "# http headers - HTTP Response\n",
    "## user agent\n",
    "\n",
    "### 현재 사용하고있는 컴퓨터의 웹브라우저의 user agent확인 https://www.whatismybrowser.com/detect/what-is-my-user-agent"
   ]
  },
  {
   "cell_type": "code",
   "execution_count": 2,
   "metadata": {
    "collapsed": false
   },
   "outputs": [
    {
     "data": {
      "text/plain": [
       "'Python-urllib/1.17'"
      ]
     },
     "execution_count": 2,
     "metadata": {},
     "output_type": "execute_result"
    }
   ],
   "source": [
    "import urllib\n",
    "urllib.URLopener.version"
   ]
  },
  {
   "cell_type": "code",
   "execution_count": 8,
   "metadata": {
    "collapsed": false
   },
   "outputs": [
    {
     "name": "stdout",
     "output_type": "stream",
     "text": [
      "<!doctype html>\n",
      "<html>\n",
      "<head>\n",
      "    <title>Example Domain</title>\n",
      "\n",
      "    <meta charset=\"utf-8\" />\n",
      "    <meta http-equiv=\"Content-type\" content=\"text/html; charset=utf-8\" />\n",
      "    <meta name=\"viewport\" content=\"width=device-width, initial-scale=1\" />\n",
      "    <style type=\"text/css\">\n",
      "    body {\n",
      "        background-color: #f0f0f2;\n",
      "        margin: 0;\n",
      "        padding: 0;\n",
      "        font-family: \"Open Sans\", \"Helvetica Neue\", Helvetica, Arial, sans-serif;\n",
      "        \n",
      "    }\n",
      "    div {\n",
      "        width: 600px;\n",
      "        margin: 5em auto;\n",
      "        padding: 50px;\n",
      "        background-color: #fff;\n",
      "        border-radius: 1em;\n",
      "    }\n",
      "    a:link, a:visited {\n",
      "        color: #38488f;\n",
      "        text-decoration: none;\n",
      "    }\n",
      "    @media (max-width: 700px) {\n",
      "        body {\n",
      "            background-color: #fff;\n",
      "        }\n",
      "        div {\n",
      "            width: auto;\n",
      "            margin: 0 auto;\n",
      "            border-radius: 0;\n",
      "            padding: 1em;\n",
      "        }\n",
      "    }\n",
      "    </style>    \n",
      "</head>\n",
      "\n",
      "<body>\n",
      "<div>\n",
      "    <h1>Example Domain</h1>\n",
      "    <p>This domain is established to be used for illustrative examples in documents. You may use this\n",
      "    domain in examples without prior coordination or asking for permission.</p>\n",
      "    <p><a href=\"http://www.iana.org/domains/example\">More information...</a></p>\n",
      "</div>\n",
      "</body>\n",
      "</html>\n",
      "\n"
     ]
    }
   ],
   "source": [
    "import urllib2\n",
    "\n",
    "request_headers={\n",
    "    \"User-Agent\":\"Mosilla/5.0(compatible;MSIE 9.0;Windows)\",\n",
    "    \"Accept\": \"text/html,application/xhtml+xml, */*\",\n",
    "    \"Accept-Language\": \"en-US\",\n",
    "    \"Connection\": \"keep-alive\" \n",
    "}\n",
    "\n",
    "request = urllib2.Request(\"http://www.example.com\",headers=request_headers)\n",
    "response = urllib2.urlopen(request)\n",
    "html = response.read()\n",
    "\n",
    "print html[:2000]"
   ]
  },
  {
   "cell_type": "markdown",
   "metadata": {},
   "source": [
    "### head함수는 전체는 안가지고 오고 간만볼때 사용한다."
   ]
  },
  {
   "cell_type": "code",
   "execution_count": 9,
   "metadata": {
    "collapsed": false
   },
   "outputs": [
    {
     "name": "stdout",
     "output_type": "stream",
     "text": [
      "status= 302\n",
      "response text= \n",
      "response header= {'Date': 'Tue, 04 Apr 2017 07:44:00 GMT', 'Content-Length': '261', 'Content-Type': 'text/html; charset=UTF-8', 'Location': 'http://www.google.co.kr/?gfe_rd=cr&ei=wE7jWLatDaeL8QeIq5bIBw', 'Cache-Control': 'private'}\n"
     ]
    }
   ],
   "source": [
    "import requests\n",
    "\n",
    "response = requests.head(\"http://www.google.com\")\n",
    "\n",
    "print \"status=\",response.status_code\n",
    "print \"response text=\",response.text\n",
    "print \"response header=\",response.headers"
   ]
  },
  {
   "cell_type": "code",
   "execution_count": null,
   "metadata": {
    "collapsed": true
   },
   "outputs": [],
   "source": [
    "import urllib2\n",
    "\n",
    "class HeadRequest(urllib2.Request):\n",
    "    def get_method(self):\n",
    "        return \"HEAD\"\n",
    "    \n",
    "response = urllib2.urlopen(HeadRequest())"
   ]
  },
  {
   "cell_type": "markdown",
   "metadata": {},
   "source": [
    "# python으로 검색해서 http url 출력하기"
   ]
  },
  {
   "cell_type": "code",
   "execution_count": 20,
   "metadata": {
    "collapsed": false
   },
   "outputs": [
    {
     "name": "stdout",
     "output_type": "stream",
     "text": [
      "error\n"
     ]
    },
    {
     "data": {
      "text/plain": [
       "True"
      ]
     },
     "execution_count": 20,
     "metadata": {},
     "output_type": "execute_result"
    }
   ],
   "source": [
    "from urllib import urlopen\n",
    "keyword='python'\n",
    "resp = urlopen('https://www.google.com/search?q='+keyword)\n",
    "html=resp.read()\n",
    "len(html)\n",
    "\n",
    "\n",
    "import re\n",
    "p=re.compile('.*(error).*')\n",
    "print p.search(html).group(1)"
   ]
  },
  {
   "cell_type": "code",
   "execution_count": 21,
   "metadata": {
    "collapsed": false
   },
   "outputs": [
    {
     "data": {
      "text/plain": [
       "True"
      ]
     },
     "execution_count": 21,
     "metadata": {},
     "output_type": "execute_result"
    }
   ],
   "source": [
    "import webbrowser\n",
    "webbrowser.open('http://www.google.com/search?q=python')"
   ]
  },
  {
   "cell_type": "markdown",
   "metadata": {},
   "source": [
    "# 구글 검색엔진에서 user agent를 (Python이 아니라) 웹브라우저로 설정해서 검색하기"
   ]
  },
  {
   "cell_type": "code",
   "execution_count": 35,
   "metadata": {
    "collapsed": false
   },
   "outputs": [
    {
     "name": "stdout",
     "output_type": "stream",
     "text": [
      "Date: Tue, 04 Apr 2017 08:01:03 GMT\r\n",
      "Expires: -1\r\n",
      "Cache-Control: private, max-age=0\r\n",
      "Content-Type: text/html; charset=UTF-8\r\n",
      "P3P: CP=\"This is not a P3P policy! See https://www.google.com/support/accounts/answer/151657?hl=en for more info.\"\r\n",
      "Server: gws\r\n",
      "X-XSS-Protection: 1; mode=block\r\n",
      "X-Frame-Options: SAMEORIGIN\r\n",
      "Set-Cookie: NID=100=PhuKRZoGeEf32RprcXtS6RW3ix6oSHzMa1FXP4JZeqUXJHWEg5I8GLrOl32P9BvzbGdrdmoc4k26ojMk0ODasT1JCQZs3SlTVXj3W7FyhFcIj40VV8pEk2qGNGAl6pUp; expires=Wed, 04-Oct-2017 08:01:03 GMT; path=/; domain=.google.co.kr; HttpOnly\r\n",
      "Accept-Ranges: none\r\n",
      "Vary: Accept-Encoding\r\n",
      "Connection: close\r\n",
      "\n"
     ]
    },
    {
     "data": {
      "text/plain": [
       "45386"
      ]
     },
     "execution_count": 35,
     "metadata": {},
     "output_type": "execute_result"
    }
   ],
   "source": [
    "import urllib2\n",
    "\n",
    "url = 'http://www.google.com/#q=python'\n",
    "headers = {'User-Agent' : 'Mozilla 5.0'}\n",
    "request = urllib2.Request(url, None, headers)\n",
    "response = urllib2.urlopen(request)\n",
    "\n",
    "print response.headers\n",
    "\n",
    "html = response.read()\n",
    "len(html)"
   ]
  },
  {
   "cell_type": "code",
   "execution_count": 26,
   "metadata": {
    "collapsed": true
   },
   "outputs": [],
   "source": [
    "import os\n",
    "f=open(os.path.join('src','mygoogle1.html'),'w')\n",
    "f.write(html)\n",
    "f.close()"
   ]
  },
  {
   "cell_type": "markdown",
   "metadata": {},
   "source": [
    "# http://data.seoul.go.kr/\n",
    "# http://data.go.kr/"
   ]
  },
  {
   "cell_type": "markdown",
   "metadata": {},
   "source": [
    "### 구글에 유저에이전트 바꿔서 헤더? 출력"
   ]
  },
  {
   "cell_type": "code",
   "execution_count": null,
   "metadata": {
    "collapsed": true
   },
   "outputs": [],
   "source": []
  },
  {
   "cell_type": "code",
   "execution_count": 4,
   "metadata": {
    "collapsed": false
   },
   "outputs": [
    {
     "name": "stdout",
     "output_type": "stream",
     "text": [
      "Writing src/ds_web_crawl_http.py\n"
     ]
    }
   ],
   "source": [
    "%%writefile src/ds_web_crawl_http.py\n",
    "#coding: utf-8\n",
    "\n",
    "from urllib import FancyURLopener\n",
    "class MyOpener(FancyURLopener):\n",
    "    version = 'Mozilla/5.0 (X11; Ubuntu; Linux x86_64; rv:42.0) Gecko/20100101 Firefox/42.0'\n",
    "\n",
    "import re\n",
    "\n",
    "myopener = MyOpener()\n",
    "page = myopener.open('http://www.google.com/search?q=python')\n",
    "html=page.read()\n",
    "\n",
    "\n",
    "p=re.compile('href=\"(https://.*?)\"')\n",
    "#p=re.compile('.*href.*')\n",
    "res=p.findall(html)\n",
    "print len(res)\n",
    "for item in res:\n",
    "    print item[:100]"
   ]
  },
  {
   "cell_type": "code",
   "execution_count": null,
   "metadata": {
    "collapsed": true
   },
   "outputs": [],
   "source": []
  },
  {
   "cell_type": "markdown",
   "metadata": {},
   "source": [
    "# 웹데이터-4: 한국 포털사이트에서 노래제목을 검색"
   ]
  },
  {
   "cell_type": "code",
   "execution_count": 41,
   "metadata": {
    "collapsed": false
   },
   "outputs": [
    {
     "name": "stdout",
     "output_type": "stream",
     "text": [
      "--- 비 오는 거리\n",
      "131408\n"
     ]
    }
   ],
   "source": [
    "import urllib\n",
    "\n",
    "keyword='비오는'\n",
    "f=urllib.urlopen(\"http://music.naver.com/search/search.nhn?query=\"+keyword+\"&x=0&y=0\")\n",
    "mydata=f.read()\n",
    "\n",
    "pos = mydata.find(\"트랙 리스트\")\n",
    "if (pos>0):\n",
    "    pos=mydata.find(\"_title title NPI=\",pos)\n",
    "    pos=mydata.find(\"title=\",pos+20)\n",
    "    pos2=mydata.find(\"\\\"\",pos+8)\n",
    "    print \"---\",mydata[pos+7:pos2]\n",
    "    \n",
    "print len(mydata)"
   ]
  },
  {
   "cell_type": "code",
   "execution_count": 47,
   "metadata": {
    "collapsed": false
   },
   "outputs": [
    {
     "name": "stdout",
     "output_type": "stream",
     "text": [
      "title=\"검색어 입력\" value=\"비오는\" maxlength=\"50\" accesskey=\"s\"\n",
      "title=\"비오는날\" alt=\"비오는날\"\n",
      "title=\"비오는 금요일\" alt=\"비오는 금요일\"\n",
      "title=\"비 오는 거리\" ><span class=\"ellipsis\"\n",
      "title=\"1집 비오는 거리\" class=\"_album NPI=a:album,r:1,i:682\"><span class=\"ellipsis\"\n",
      "title=\"비오는 날 수채화\" ><span class=\"ellipsis\"\n",
      "title=\"비오는 날 수채화 1 OST\" class=\"_album NPI=a:album,r:2,i:33001\"><span class=\"ellipsis\"\n",
      "title=\"비오는 압구정\" ><span class=\"ellipsis\"\n",
      "title=\"비 오는 거리\" ><span class=\"ellipsis\"\n",
      "title=\"비 오는 거리\" class=\"_album NPI=a:album,r:4,i:442032\"><span class=\"ellipsis\"\n",
      "title=\"비오는 거리\" ><span class=\"ellipsis\"\n",
      "title=\"비 오는 거리  (Feat. 핫펠트)\" ><span class=\"ellipsis\"\n",
      "title=\"비오는 거리\" ><span class=\"ellipsis\"\n",
      "title=\"유ㄹish.1 - 비오는 거리\" class=\"_album NPI=a:album,r:7,i:208754\"><span class=\"ellipsis\"\n",
      "title=\"비 오는 날\" ><span class=\"ellipsis\"\n",
      "title=\"비 오는 날\" class=\"_album NPI=a:album,r:8,i:656486\"><span class=\"ellipsis\"\n",
      "title=\"비오는 날엔\" ><span class=\"ellipsis\"\n",
      "title=\"비오는 날엔\" class=\"_album NPI=a:album,r:9,i:310321\"><span class=\"ellipsis\"\n",
      "title=\"비오는 날, 산책\" ><span class=\"ellipsis\"\n",
      "title=\"비오는 날, 산책\" class=\"_album NPI=a:album,r:10,i:620775\"><span class=\"ellipsis\"\n",
      "title=\"비오는 압구정\" ><span class=\"ellipsis\"\n",
      "title=\"비오는 날은 푸르다\" ><span class=\"ellipsis\"\n",
      "title=\"비오는 날은 푸르다\" class=\"_album NPI=a:album,r:12,i:660894\"><span class=\"ellipsis\"\n",
      "title=\"비 오는 이런 날에\" ><span class=\"ellipsis\"\n",
      "title=\"비 오는 이런 날에\" class=\"_album NPI=a:album,r:13,i:560089\"><span class=\"ellipsis\"\n",
      "title=\"Acoustic Rain (비오는 날 듣는 감성 팝음악 모음집)\" class=\"_album NPI=a:album,r:14,i:385222\"><span class=\"ellipsis\"\n",
      "title=\"비오는 날\" ><span class=\"ellipsis\"\n",
      "title=\"Acoustic Rain (비오는 날 듣는 감성 팝음악 모음집)\"\n",
      "title=\"비 오는 날 듣고 싶은 추억의 팝송\"\n",
      "title=\"비오는 날 수채화 1 OST\"\n",
      "title=\"비오는 금요일\"\n",
      "title=\"비오는 금요일\" alt=\"비오는 금요일\" class=\"NPI=a:artist,r:,i:271713\"\n",
      "title=\"1집 비오는 거리\"\n",
      "title=\"비 오는 날\"\n",
      "title=\"비오는 압구정\"\n",
      "title=\"비오는 날에\"\n",
      "title=\"비오는 거리 (Feat. 단비)\"\n",
      "title=\"비오는 날 떡볶이\"\n",
      "title=\"`비오는날의 수채화` 피아노커버\"\n",
      "title=\"`비오는날의 수채화` 피아노커버\"\n",
      "title=\"`비오는날의 수채화 ` 피아노연주\"\n"
     ]
    }
   ],
   "source": [
    "import re\n",
    "p=re.compile('title=\".*비.?오는.*\"')\n",
    "res=p.findall(mydata)\n",
    "\n",
    "for item in res:\n",
    "    print item"
   ]
  },
  {
   "cell_type": "code",
   "execution_count": 48,
   "metadata": {
    "collapsed": false
   },
   "outputs": [
    {
     "name": "stdout",
     "output_type": "stream",
     "text": [
      "비 오는 거리\n",
      "비오는 날 수채화\n",
      "비오는 압구정\n",
      "비 오는 거리\n",
      "비오는 거리\n",
      "비 오는 거리  (Feat. 핫펠트)\n",
      "비오는 거리\n",
      "비 오는 날\n",
      "비오는 날엔\n",
      "비오는 날, 산책\n",
      "비오는 압구정\n",
      "비오는 날은 푸르다\n",
      "비 오는 이런 날에\n",
      "It Will Rain\n",
      "비오는 날\n"
     ]
    }
   ],
   "source": [
    "import lxml.html\n",
    "from lxml.cssselect import CSSSelector\n",
    "\n",
    "html = lxml.html.fromstring(mydata)\n",
    "\n",
    "#tree=lxml.etree.parse('myhtml')\n",
    "\n",
    "sel = CSSSelector('#content > div:nth-child(4) \\\n",
    "    > div._tracklist_mytrack.tracklist_table.tracklist_type1._searchTrack \\\n",
    "    > table > tbody > tr > td.name > a.title')\n",
    "\n",
    "nodes = sel(html)\n",
    "\n",
    "for node in nodes:\n",
    "    #print lxml.html.tostring(item)\n",
    "    print node.text_content()"
   ]
  },
  {
   "cell_type": "code",
   "execution_count": 9,
   "metadata": {
    "collapsed": false
   },
   "outputs": [
    {
     "name": "stdout",
     "output_type": "stream",
     "text": [
      "Overwriting src/ds_web_crawl_rain.py\n"
     ]
    }
   ],
   "source": [
    "%%writefile src/ds_web_crawl_rain.py\n",
    "#coding: utf-8\n",
    "\n",
    "import lxml.html\n",
    "from lxml.cssselect import CSSSelector\n",
    "\n",
    "\n",
    "import urllib\n",
    "\n",
    "keyword='rain'\n",
    "f=urllib.urlopen(\"http://music.naver.com/search/search.nhn?query=\"+keyword+\"&x=0&y=0\")\n",
    "mydata=f.read()\n",
    "\n",
    "html = lxml.html.fromstring(mydata)\n",
    "\n",
    "#tree=lxml.etree.parse('myhtml')\n",
    "\n",
    "sel = CSSSelector('#content > div:nth-child(4) \\\n",
    "    > div._tracklist_mytrack.tracklist_table.tracklist_type1._searchTrack \\\n",
    "    > table > tbody > tr > td.name > a.title')\n",
    "\n",
    "nodes = sel(html)\n",
    "\n",
    "for node in nodes:\n",
    "    #print lxml.html.tostring(item)\n",
    "    print node.text_content()"
   ]
  }
 ],
 "metadata": {
  "kernelspec": {
   "display_name": "Python 2",
   "language": "python",
   "name": "python2"
  },
  "language_info": {
   "codemirror_mode": {
    "name": "ipython",
    "version": 2
   },
   "file_extension": ".py",
   "mimetype": "text/x-python",
   "name": "python",
   "nbconvert_exporter": "python",
   "pygments_lexer": "ipython2",
   "version": "2.7.10"
  }
 },
 "nbformat": 4,
 "nbformat_minor": 2
}
